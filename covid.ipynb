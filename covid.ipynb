{
 "cells": [
  {
   "cell_type": "code",
   "execution_count": 1,
   "metadata": {
    "colab": {},
    "colab_type": "code",
    "id": "P0Pffkxc5Mp8"
   },
   "outputs": [],
   "source": [
    "import pandas as pd\n",
    "import matplotlib.pyplot as plt\n",
    "import seaborn as sns\n",
    "import numpy as np\n",
    "import datetime as dt\n",
    "from datetime import timedelta\n",
    "from sklearn.linear_model import LinearRegression\n",
    "from sklearn.svm import SVR\n",
    "from statsmodels.tsa.api import Holt\n"
   ]
  },
  {
   "cell_type": "code",
   "execution_count": 2,
   "metadata": {
    "colab": {
     "base_uri": "https://localhost:8080/",
     "height": 355
    },
    "colab_type": "code",
    "id": "_B0aAhNh6VKk",
    "outputId": "d05e3fc9-fa06-46cd-caa6-906d94ad4d52"
   },
   "outputs": [
    {
     "data": {
      "text/html": [
       "<div>\n",
       "<style scoped>\n",
       "    .dataframe tbody tr th:only-of-type {\n",
       "        vertical-align: middle;\n",
       "    }\n",
       "\n",
       "    .dataframe tbody tr th {\n",
       "        vertical-align: top;\n",
       "    }\n",
       "\n",
       "    .dataframe thead th {\n",
       "        text-align: right;\n",
       "    }\n",
       "</style>\n",
       "<table border=\"1\" class=\"dataframe\">\n",
       "  <thead>\n",
       "    <tr style=\"text-align: right;\">\n",
       "      <th></th>\n",
       "      <th>SNo</th>\n",
       "      <th>ObservationDate</th>\n",
       "      <th>Province/State</th>\n",
       "      <th>Country/Region</th>\n",
       "      <th>Last Update</th>\n",
       "      <th>Confirmed</th>\n",
       "      <th>Deaths</th>\n",
       "      <th>Recovered</th>\n",
       "    </tr>\n",
       "  </thead>\n",
       "  <tbody>\n",
       "    <tr>\n",
       "      <th>0</th>\n",
       "      <td>1</td>\n",
       "      <td>01/22/2020</td>\n",
       "      <td>Anhui</td>\n",
       "      <td>Mainland China</td>\n",
       "      <td>1/22/2020 17:00</td>\n",
       "      <td>1.0</td>\n",
       "      <td>0.0</td>\n",
       "      <td>0.0</td>\n",
       "    </tr>\n",
       "    <tr>\n",
       "      <th>1</th>\n",
       "      <td>2</td>\n",
       "      <td>01/22/2020</td>\n",
       "      <td>Beijing</td>\n",
       "      <td>Mainland China</td>\n",
       "      <td>1/22/2020 17:00</td>\n",
       "      <td>14.0</td>\n",
       "      <td>0.0</td>\n",
       "      <td>0.0</td>\n",
       "    </tr>\n",
       "    <tr>\n",
       "      <th>2</th>\n",
       "      <td>3</td>\n",
       "      <td>01/22/2020</td>\n",
       "      <td>Chongqing</td>\n",
       "      <td>Mainland China</td>\n",
       "      <td>1/22/2020 17:00</td>\n",
       "      <td>6.0</td>\n",
       "      <td>0.0</td>\n",
       "      <td>0.0</td>\n",
       "    </tr>\n",
       "    <tr>\n",
       "      <th>3</th>\n",
       "      <td>4</td>\n",
       "      <td>01/22/2020</td>\n",
       "      <td>Fujian</td>\n",
       "      <td>Mainland China</td>\n",
       "      <td>1/22/2020 17:00</td>\n",
       "      <td>1.0</td>\n",
       "      <td>0.0</td>\n",
       "      <td>0.0</td>\n",
       "    </tr>\n",
       "    <tr>\n",
       "      <th>4</th>\n",
       "      <td>5</td>\n",
       "      <td>01/22/2020</td>\n",
       "      <td>Gansu</td>\n",
       "      <td>Mainland China</td>\n",
       "      <td>1/22/2020 17:00</td>\n",
       "      <td>0.0</td>\n",
       "      <td>0.0</td>\n",
       "      <td>0.0</td>\n",
       "    </tr>\n",
       "    <tr>\n",
       "      <th>5</th>\n",
       "      <td>6</td>\n",
       "      <td>01/22/2020</td>\n",
       "      <td>Guangdong</td>\n",
       "      <td>Mainland China</td>\n",
       "      <td>1/22/2020 17:00</td>\n",
       "      <td>26.0</td>\n",
       "      <td>0.0</td>\n",
       "      <td>0.0</td>\n",
       "    </tr>\n",
       "    <tr>\n",
       "      <th>6</th>\n",
       "      <td>7</td>\n",
       "      <td>01/22/2020</td>\n",
       "      <td>Guangxi</td>\n",
       "      <td>Mainland China</td>\n",
       "      <td>1/22/2020 17:00</td>\n",
       "      <td>2.0</td>\n",
       "      <td>0.0</td>\n",
       "      <td>0.0</td>\n",
       "    </tr>\n",
       "    <tr>\n",
       "      <th>7</th>\n",
       "      <td>8</td>\n",
       "      <td>01/22/2020</td>\n",
       "      <td>Guizhou</td>\n",
       "      <td>Mainland China</td>\n",
       "      <td>1/22/2020 17:00</td>\n",
       "      <td>1.0</td>\n",
       "      <td>0.0</td>\n",
       "      <td>0.0</td>\n",
       "    </tr>\n",
       "    <tr>\n",
       "      <th>8</th>\n",
       "      <td>9</td>\n",
       "      <td>01/22/2020</td>\n",
       "      <td>Hainan</td>\n",
       "      <td>Mainland China</td>\n",
       "      <td>1/22/2020 17:00</td>\n",
       "      <td>4.0</td>\n",
       "      <td>0.0</td>\n",
       "      <td>0.0</td>\n",
       "    </tr>\n",
       "    <tr>\n",
       "      <th>9</th>\n",
       "      <td>10</td>\n",
       "      <td>01/22/2020</td>\n",
       "      <td>Hebei</td>\n",
       "      <td>Mainland China</td>\n",
       "      <td>1/22/2020 17:00</td>\n",
       "      <td>1.0</td>\n",
       "      <td>0.0</td>\n",
       "      <td>0.0</td>\n",
       "    </tr>\n",
       "  </tbody>\n",
       "</table>\n",
       "</div>"
      ],
      "text/plain": [
       "   SNo ObservationDate Province/State  Country/Region      Last Update  \\\n",
       "0    1      01/22/2020          Anhui  Mainland China  1/22/2020 17:00   \n",
       "1    2      01/22/2020        Beijing  Mainland China  1/22/2020 17:00   \n",
       "2    3      01/22/2020      Chongqing  Mainland China  1/22/2020 17:00   \n",
       "3    4      01/22/2020         Fujian  Mainland China  1/22/2020 17:00   \n",
       "4    5      01/22/2020          Gansu  Mainland China  1/22/2020 17:00   \n",
       "5    6      01/22/2020      Guangdong  Mainland China  1/22/2020 17:00   \n",
       "6    7      01/22/2020        Guangxi  Mainland China  1/22/2020 17:00   \n",
       "7    8      01/22/2020        Guizhou  Mainland China  1/22/2020 17:00   \n",
       "8    9      01/22/2020         Hainan  Mainland China  1/22/2020 17:00   \n",
       "9   10      01/22/2020          Hebei  Mainland China  1/22/2020 17:00   \n",
       "\n",
       "   Confirmed  Deaths  Recovered  \n",
       "0        1.0     0.0        0.0  \n",
       "1       14.0     0.0        0.0  \n",
       "2        6.0     0.0        0.0  \n",
       "3        1.0     0.0        0.0  \n",
       "4        0.0     0.0        0.0  \n",
       "5       26.0     0.0        0.0  \n",
       "6        2.0     0.0        0.0  \n",
       "7        1.0     0.0        0.0  \n",
       "8        4.0     0.0        0.0  \n",
       "9        1.0     0.0        0.0  "
      ]
     },
     "execution_count": 2,
     "metadata": {},
     "output_type": "execute_result"
    }
   ],
   "source": [
    "covid = pd.read_csv(\"covid_19_data.csv\")\n",
    "covid.head(10)"
   ]
  },
  {
   "cell_type": "code",
   "execution_count": 3,
   "metadata": {
    "colab": {
     "base_uri": "https://localhost:8080/",
     "height": 347
    },
    "colab_type": "code",
    "id": "cHHaAVo98ksl",
    "outputId": "7ecc92e1-469e-4ee5-8772-29a2d90af68f"
   },
   "outputs": [
    {
     "name": "stdout",
     "output_type": "stream",
     "text": [
      "Size/Shape of the dataset (18327, 8)\n",
      "Checking for null values SNo                   0\n",
      "ObservationDate       0\n",
      "Province/State     9277\n",
      "Country/Region        0\n",
      "Last Update           0\n",
      "Confirmed             0\n",
      "Deaths                0\n",
      "Recovered             0\n",
      "dtype: int64\n",
      "Checking Data-type SNo                  int64\n",
      "ObservationDate     object\n",
      "Province/State      object\n",
      "Country/Region      object\n",
      "Last Update         object\n",
      "Confirmed          float64\n",
      "Deaths             float64\n",
      "Recovered          float64\n",
      "dtype: object\n"
     ]
    }
   ],
   "source": [
    "print(\"Size/Shape of the dataset\",covid.shape)\n",
    "print(\"Checking for null values\",covid.isnull().sum())\n",
    "print(\"Checking Data-type\",covid.dtypes)"
   ]
  },
  {
   "cell_type": "code",
   "execution_count": 4,
   "metadata": {
    "colab": {},
    "colab_type": "code",
    "id": "_rnPaCMq9j14"
   },
   "outputs": [
    {
     "name": "stderr",
     "output_type": "stream",
     "text": [
      "/Users/ravibabariya/opt/anaconda3/lib/python3.7/site-packages/ipykernel_launcher.py:2: FutureWarning: In a future version of pandas all arguments of DataFrame.drop except for the argument 'labels' will be keyword-only\n",
      "  \n"
     ]
    }
   ],
   "source": [
    "#Dropping the column\n",
    "covid.drop([\"SNo\"],1,inplace=True)"
   ]
  },
  {
   "cell_type": "code",
   "execution_count": 5,
   "metadata": {
    "colab": {
     "base_uri": "https://localhost:8080/",
     "height": 156
    },
    "colab_type": "code",
    "id": "4ugvWmzo-CKH",
    "outputId": "2645e7e6-7595-489d-ab9e-5f7c00ddeebf"
   },
   "outputs": [
    {
     "data": {
      "text/plain": [
       "ObservationDate       0\n",
       "Province/State     9277\n",
       "Country/Region        0\n",
       "Last Update           0\n",
       "Confirmed             0\n",
       "Deaths                0\n",
       "Recovered             0\n",
       "dtype: int64"
      ]
     },
     "execution_count": 5,
     "metadata": {},
     "output_type": "execute_result"
    }
   ],
   "source": [
    "covid.isnull().sum()"
   ]
  },
  {
   "cell_type": "code",
   "execution_count": 6,
   "metadata": {
    "colab": {},
    "colab_type": "code",
    "id": "zqTvvoU9-Ouf"
   },
   "outputs": [],
   "source": [
    "covid[\"ObservationDate\"] = pd.to_datetime(covid[\"ObservationDate\"])"
   ]
  },
  {
   "cell_type": "code",
   "execution_count": 7,
   "metadata": {
    "colab": {},
    "colab_type": "code",
    "id": "HMwOFbap-uVw"
   },
   "outputs": [],
   "source": [
    "#Grouping differnent types of cases as per the date\n",
    "datewise = covid.groupby([\"ObservationDate\"]).agg({\"Confirmed\":\"sum\",\"Recovered\":\"sum\",\"Deaths\":\"sum\"})\n"
   ]
  },
  {
   "cell_type": "code",
   "execution_count": 8,
   "metadata": {
    "colab": {
     "base_uri": "https://localhost:8080/",
     "height": 121
    },
    "colab_type": "code",
    "id": "sD_c8lcj_1FY",
    "outputId": "68d53054-02bf-425e-f89b-5f56070f016b"
   },
   "outputs": [
    {
     "name": "stdout",
     "output_type": "stream",
     "text": [
      "Basic Information\n",
      "Total number of Confirmed cases around the world 2811193.0\n",
      "Total number of Recovered cases around the world 793601.0\n",
      "Total number of Death cases around the world 197159.0\n",
      "Total number of Active cases around the world 1820433.0\n",
      "Total number of Closed cases around the world 990760.0\n"
     ]
    }
   ],
   "source": [
    "print(\"Basic Information\")\n",
    "print(\"Total number of Confirmed cases around the world\",datewise[\"Confirmed\"].iloc[-1])\n",
    "print(\"Total number of Recovered cases around the world\",datewise[\"Recovered\"].iloc[-1])\n",
    "print(\"Total number of Death cases around the world\",datewise[\"Deaths\"].iloc[-1])\n",
    "print(\"Total number of Active cases around the world\",(datewise[\"Confirmed\"].iloc[-1]-datewise[\"Recovered\"].iloc[-1]-datewise[\"Deaths\"].iloc[-1]))\n",
    "print(\"Total number of Closed cases around the world\",(datewise[\"Recovered\"].iloc[-1]+datewise[\"Deaths\"].iloc[-1]))\n"
   ]
  },
  {
   "cell_type": "code",
   "execution_count": 9,
   "metadata": {
    "colab": {
     "base_uri": "https://localhost:8080/",
     "height": 467
    },
    "colab_type": "code",
    "id": "ozKjnxdaA5lN",
    "outputId": "f5e3a590-05ab-4408-a8c2-e869491a8ff7"
   },
   "outputs": [
    {
     "data": {
      "text/plain": [
       "(array([ 0,  1,  2,  3,  4,  5,  6,  7,  8,  9, 10, 11, 12, 13, 14, 15, 16,\n",
       "        17, 18, 19, 20, 21, 22, 23, 24, 25, 26, 27, 28, 29, 30, 31, 32, 33,\n",
       "        34, 35, 36, 37, 38, 39, 40, 41, 42, 43, 44, 45, 46, 47, 48, 49, 50,\n",
       "        51, 52, 53, 54, 55, 56, 57, 58, 59, 60, 61, 62, 63, 64, 65, 66, 67,\n",
       "        68, 69, 70, 71, 72, 73, 74, 75, 76, 77, 78, 79, 80, 81, 82, 83, 84,\n",
       "        85, 86, 87, 88, 89, 90, 91, 92, 93]),\n",
       " [Text(0, 0, '2020-01-22'),\n",
       "  Text(1, 0, '2020-01-23'),\n",
       "  Text(2, 0, '2020-01-24'),\n",
       "  Text(3, 0, '2020-01-25'),\n",
       "  Text(4, 0, '2020-01-26'),\n",
       "  Text(5, 0, '2020-01-27'),\n",
       "  Text(6, 0, '2020-01-28'),\n",
       "  Text(7, 0, '2020-01-29'),\n",
       "  Text(8, 0, '2020-01-30'),\n",
       "  Text(9, 0, '2020-01-31'),\n",
       "  Text(10, 0, '2020-02-01'),\n",
       "  Text(11, 0, '2020-02-02'),\n",
       "  Text(12, 0, '2020-02-03'),\n",
       "  Text(13, 0, '2020-02-04'),\n",
       "  Text(14, 0, '2020-02-05'),\n",
       "  Text(15, 0, '2020-02-06'),\n",
       "  Text(16, 0, '2020-02-07'),\n",
       "  Text(17, 0, '2020-02-08'),\n",
       "  Text(18, 0, '2020-02-09'),\n",
       "  Text(19, 0, '2020-02-10'),\n",
       "  Text(20, 0, '2020-02-11'),\n",
       "  Text(21, 0, '2020-02-12'),\n",
       "  Text(22, 0, '2020-02-13'),\n",
       "  Text(23, 0, '2020-02-14'),\n",
       "  Text(24, 0, '2020-02-15'),\n",
       "  Text(25, 0, '2020-02-16'),\n",
       "  Text(26, 0, '2020-02-17'),\n",
       "  Text(27, 0, '2020-02-18'),\n",
       "  Text(28, 0, '2020-02-19'),\n",
       "  Text(29, 0, '2020-02-20'),\n",
       "  Text(30, 0, '2020-02-21'),\n",
       "  Text(31, 0, '2020-02-22'),\n",
       "  Text(32, 0, '2020-02-23'),\n",
       "  Text(33, 0, '2020-02-24'),\n",
       "  Text(34, 0, '2020-02-25'),\n",
       "  Text(35, 0, '2020-02-26'),\n",
       "  Text(36, 0, '2020-02-27'),\n",
       "  Text(37, 0, '2020-02-28'),\n",
       "  Text(38, 0, '2020-02-29'),\n",
       "  Text(39, 0, '2020-03-01'),\n",
       "  Text(40, 0, '2020-03-02'),\n",
       "  Text(41, 0, '2020-03-03'),\n",
       "  Text(42, 0, '2020-03-04'),\n",
       "  Text(43, 0, '2020-03-05'),\n",
       "  Text(44, 0, '2020-03-06'),\n",
       "  Text(45, 0, '2020-03-07'),\n",
       "  Text(46, 0, '2020-03-08'),\n",
       "  Text(47, 0, '2020-03-09'),\n",
       "  Text(48, 0, '2020-03-10'),\n",
       "  Text(49, 0, '2020-03-11'),\n",
       "  Text(50, 0, '2020-03-12'),\n",
       "  Text(51, 0, '2020-03-13'),\n",
       "  Text(52, 0, '2020-03-14'),\n",
       "  Text(53, 0, '2020-03-15'),\n",
       "  Text(54, 0, '2020-03-16'),\n",
       "  Text(55, 0, '2020-03-17'),\n",
       "  Text(56, 0, '2020-03-18'),\n",
       "  Text(57, 0, '2020-03-19'),\n",
       "  Text(58, 0, '2020-03-20'),\n",
       "  Text(59, 0, '2020-03-21'),\n",
       "  Text(60, 0, '2020-03-22'),\n",
       "  Text(61, 0, '2020-03-23'),\n",
       "  Text(62, 0, '2020-03-24'),\n",
       "  Text(63, 0, '2020-03-25'),\n",
       "  Text(64, 0, '2020-03-26'),\n",
       "  Text(65, 0, '2020-03-27'),\n",
       "  Text(66, 0, '2020-03-28'),\n",
       "  Text(67, 0, '2020-03-29'),\n",
       "  Text(68, 0, '2020-03-30'),\n",
       "  Text(69, 0, '2020-03-31'),\n",
       "  Text(70, 0, '2020-04-01'),\n",
       "  Text(71, 0, '2020-04-02'),\n",
       "  Text(72, 0, '2020-04-03'),\n",
       "  Text(73, 0, '2020-04-04'),\n",
       "  Text(74, 0, '2020-04-05'),\n",
       "  Text(75, 0, '2020-04-06'),\n",
       "  Text(76, 0, '2020-04-07'),\n",
       "  Text(77, 0, '2020-04-08'),\n",
       "  Text(78, 0, '2020-04-09'),\n",
       "  Text(79, 0, '2020-04-10'),\n",
       "  Text(80, 0, '2020-04-11'),\n",
       "  Text(81, 0, '2020-04-12'),\n",
       "  Text(82, 0, '2020-04-13'),\n",
       "  Text(83, 0, '2020-04-14'),\n",
       "  Text(84, 0, '2020-04-15'),\n",
       "  Text(85, 0, '2020-04-16'),\n",
       "  Text(86, 0, '2020-04-17'),\n",
       "  Text(87, 0, '2020-04-18'),\n",
       "  Text(88, 0, '2020-04-19'),\n",
       "  Text(89, 0, '2020-04-20'),\n",
       "  Text(90, 0, '2020-04-21'),\n",
       "  Text(91, 0, '2020-04-22'),\n",
       "  Text(92, 0, '2020-04-23'),\n",
       "  Text(93, 0, '2020-04-24')])"
      ]
     },
     "execution_count": 9,
     "metadata": {},
     "output_type": "execute_result"
    },
    {
     "data": {
      "image/png": "[encoded data removed]",
      "text/plain": [
       "<Figure size 1080x360 with 1 Axes>"
      ]
     },
     "metadata": {
      "needs_background": "light"
     },
     "output_type": "display_data"
    }
   ],
   "source": [
    "plt.figure(figsize=(15,5))\n",
    "sns.barplot(x=datewise.index.date,y=datewise[\"Confirmed\"]-datewise[\"Recovered\"]-datewise[\"Deaths\"])\n",
    "plt.title(\"Distributions plot for Active Cases\")\n",
    "plt.xticks(rotation=90)"
   ]
  },
  {
   "cell_type": "code",
   "execution_count": 10,
   "metadata": {
    "colab": {
     "base_uri": "https://localhost:8080/",
     "height": 469
    },
    "colab_type": "code",
    "id": "jDBqNIyaB4mG",
    "outputId": "d7759769-3489-4874-8d39-0b9799de2cbe"
   },
   "outputs": [
    {
     "data": {
      "text/plain": [
       "(array([ 0,  1,  2,  3,  4,  5,  6,  7,  8,  9, 10, 11, 12, 13, 14, 15, 16,\n",
       "        17, 18, 19, 20, 21, 22, 23, 24, 25, 26, 27, 28, 29, 30, 31, 32, 33,\n",
       "        34, 35, 36, 37, 38, 39, 40, 41, 42, 43, 44, 45, 46, 47, 48, 49, 50,\n",
       "        51, 52, 53, 54, 55, 56, 57, 58, 59, 60, 61, 62, 63, 64, 65, 66, 67,\n",
       "        68, 69, 70, 71, 72, 73, 74, 75, 76, 77, 78, 79, 80, 81, 82, 83, 84,\n",
       "        85, 86, 87, 88, 89, 90, 91, 92, 93]),\n",
       " [Text(0, 0, '2020-01-22'),\n",
       "  Text(1, 0, '2020-01-23'),\n",
       "  Text(2, 0, '2020-01-24'),\n",
       "  Text(3, 0, '2020-01-25'),\n",
       "  Text(4, 0, '2020-01-26'),\n",
       "  Text(5, 0, '2020-01-27'),\n",
       "  Text(6, 0, '2020-01-28'),\n",
       "  Text(7, 0, '2020-01-29'),\n",
       "  Text(8, 0, '2020-01-30'),\n",
       "  Text(9, 0, '2020-01-31'),\n",
       "  Text(10, 0, '2020-02-01'),\n",
       "  Text(11, 0, '2020-02-02'),\n",
       "  Text(12, 0, '2020-02-03'),\n",
       "  Text(13, 0, '2020-02-04'),\n",
       "  Text(14, 0, '2020-02-05'),\n",
       "  Text(15, 0, '2020-02-06'),\n",
       "  Text(16, 0, '2020-02-07'),\n",
       "  Text(17, 0, '2020-02-08'),\n",
       "  Text(18, 0, '2020-02-09'),\n",
       "  Text(19, 0, '2020-02-10'),\n",
       "  Text(20, 0, '2020-02-11'),\n",
       "  Text(21, 0, '2020-02-12'),\n",
       "  Text(22, 0, '2020-02-13'),\n",
       "  Text(23, 0, '2020-02-14'),\n",
       "  Text(24, 0, '2020-02-15'),\n",
       "  Text(25, 0, '2020-02-16'),\n",
       "  Text(26, 0, '2020-02-17'),\n",
       "  Text(27, 0, '2020-02-18'),\n",
       "  Text(28, 0, '2020-02-19'),\n",
       "  Text(29, 0, '2020-02-20'),\n",
       "  Text(30, 0, '2020-02-21'),\n",
       "  Text(31, 0, '2020-02-22'),\n",
       "  Text(32, 0, '2020-02-23'),\n",
       "  Text(33, 0, '2020-02-24'),\n",
       "  Text(34, 0, '2020-02-25'),\n",
       "  Text(35, 0, '2020-02-26'),\n",
       "  Text(36, 0, '2020-02-27'),\n",
       "  Text(37, 0, '2020-02-28'),\n",
       "  Text(38, 0, '2020-02-29'),\n",
       "  Text(39, 0, '2020-03-01'),\n",
       "  Text(40, 0, '2020-03-02'),\n",
       "  Text(41, 0, '2020-03-03'),\n",
       "  Text(42, 0, '2020-03-04'),\n",
       "  Text(43, 0, '2020-03-05'),\n",
       "  Text(44, 0, '2020-03-06'),\n",
       "  Text(45, 0, '2020-03-07'),\n",
       "  Text(46, 0, '2020-03-08'),\n",
       "  Text(47, 0, '2020-03-09'),\n",
       "  Text(48, 0, '2020-03-10'),\n",
       "  Text(49, 0, '2020-03-11'),\n",
       "  Text(50, 0, '2020-03-12'),\n",
       "  Text(51, 0, '2020-03-13'),\n",
       "  Text(52, 0, '2020-03-14'),\n",
       "  Text(53, 0, '2020-03-15'),\n",
       "  Text(54, 0, '2020-03-16'),\n",
       "  Text(55, 0, '2020-03-17'),\n",
       "  Text(56, 0, '2020-03-18'),\n",
       "  Text(57, 0, '2020-03-19'),\n",
       "  Text(58, 0, '2020-03-20'),\n",
       "  Text(59, 0, '2020-03-21'),\n",
       "  Text(60, 0, '2020-03-22'),\n",
       "  Text(61, 0, '2020-03-23'),\n",
       "  Text(62, 0, '2020-03-24'),\n",
       "  Text(63, 0, '2020-03-25'),\n",
       "  Text(64, 0, '2020-03-26'),\n",
       "  Text(65, 0, '2020-03-27'),\n",
       "  Text(66, 0, '2020-03-28'),\n",
       "  Text(67, 0, '2020-03-29'),\n",
       "  Text(68, 0, '2020-03-30'),\n",
       "  Text(69, 0, '2020-03-31'),\n",
       "  Text(70, 0, '2020-04-01'),\n",
       "  Text(71, 0, '2020-04-02'),\n",
       "  Text(72, 0, '2020-04-03'),\n",
       "  Text(73, 0, '2020-04-04'),\n",
       "  Text(74, 0, '2020-04-05'),\n",
       "  Text(75, 0, '2020-04-06'),\n",
       "  Text(76, 0, '2020-04-07'),\n",
       "  Text(77, 0, '2020-04-08'),\n",
       "  Text(78, 0, '2020-04-09'),\n",
       "  Text(79, 0, '2020-04-10'),\n",
       "  Text(80, 0, '2020-04-11'),\n",
       "  Text(81, 0, '2020-04-12'),\n",
       "  Text(82, 0, '2020-04-13'),\n",
       "  Text(83, 0, '2020-04-14'),\n",
       "  Text(84, 0, '2020-04-15'),\n",
       "  Text(85, 0, '2020-04-16'),\n",
       "  Text(86, 0, '2020-04-17'),\n",
       "  Text(87, 0, '2020-04-18'),\n",
       "  Text(88, 0, '2020-04-19'),\n",
       "  Text(89, 0, '2020-04-20'),\n",
       "  Text(90, 0, '2020-04-21'),\n",
       "  Text(91, 0, '2020-04-22'),\n",
       "  Text(92, 0, '2020-04-23'),\n",
       "  Text(93, 0, '2020-04-24')])"
      ]
     },
     "execution_count": 10,
     "metadata": {},
     "output_type": "execute_result"
    },
    {
     "data": {
      "image/png": "[encoded data removed]",
      "text/plain": [
       "<Figure size 1080x360 with 1 Axes>"
      ]
     },
     "metadata": {
      "needs_background": "light"
     },
     "output_type": "display_data"
    }
   ],
   "source": [
    "plt.figure(figsize=(15,5))\n",
    "sns.barplot(x=datewise.index.date,y=datewise[\"Recovered\"]+datewise[\"Deaths\"])\n",
    "plt.title(\"Distribution plot for Closed Cases\")\n",
    "plt.xticks(rotation=90)"
   ]
  },
  {
   "cell_type": "code",
   "execution_count": 11,
   "metadata": {
    "colab": {
     "base_uri": "https://localhost:8080/",
     "height": 367
    },
    "colab_type": "code",
    "id": "WOH0PDBOCQO_",
    "outputId": "e7b9fa99-7323-4b48-8fbf-664a4d3dbcdb"
   },
   "outputs": [
    {
     "name": "stderr",
     "output_type": "stream",
     "text": [
      "/Users/ravibabariya/opt/anaconda3/lib/python3.7/site-packages/ipykernel_launcher.py:1: FutureWarning: weekofyear and week have been deprecated, please use DatetimeIndex.isocalendar().week instead, which returns a Series.  To exactly reproduce the behavior of week and weekofyear and return an Index, you may call pd.Int64Index(idx.isocalendar().week)\n",
      "  \"\"\"Entry point for launching an IPython kernel.\n"
     ]
    },
    {
     "data": {
      "text/plain": [
       "Text(0.5, 1.0, 'Weekly Progress of different types of cases')"
      ]
     },
     "execution_count": 11,
     "metadata": {},
     "output_type": "execute_result"
    },
    {
     "data": {
      "image/png": "[encoded data removed]",
      "text/plain": [
       "<Figure size 576x360 with 1 Axes>"
      ]
     },
     "metadata": {
      "needs_background": "light"
     },
     "output_type": "display_data"
    }
   ],
   "source": [
    "datewise[\"WeekofYear\"] = datewise.index.weekofyear\n",
    "week_num = []\n",
    "weekwise_confirmed = []\n",
    "weekwise_recovered = []\n",
    "weekwise_deaths = []\n",
    "w = 1\n",
    "for i in list(datewise[\"WeekofYear\"].unique()):\n",
    "    weekwise_confirmed.append(datewise[datewise[\"WeekofYear\"]==i][\"Confirmed\"].iloc[-1])\n",
    "    weekwise_recovered.append(datewise[datewise[\"WeekofYear\"]==i][\"Recovered\"].iloc[-1])\n",
    "    weekwise_deaths.append(datewise[datewise[\"WeekofYear\"]==i][\"Deaths\"].iloc[-1])\n",
    "    week_num.append(w)\n",
    "    w=w+1\n",
    "plt.figure(figsize=(8,5))\n",
    "plt.plot(week_num,weekwise_confirmed,linewidth=3)\n",
    "plt.plot(week_num,weekwise_recovered,linewidth =3)\n",
    "plt.plot(week_num,weekwise_deaths,linewidth = 3)\n",
    "plt.xlabel(\"WeekNumber\")\n",
    "plt.ylabel(\"Number of cases\")\n",
    "plt.title(\"Weekly Progress of different types of cases\")"
   ]
  },
  {
   "cell_type": "code",
   "execution_count": 12,
   "metadata": {
    "colab": {
     "base_uri": "https://localhost:8080/",
     "height": 295
    },
    "colab_type": "code",
    "id": "eOU60zEKETQV",
    "outputId": "6fa3e61f-ce97-44f5-9538-252588cd10e9"
   },
   "outputs": [
    {
     "data": {
      "image/png": "[encoded data removed]",
      "text/plain": [
       "<Figure size 864x288 with 2 Axes>"
      ]
     },
     "metadata": {
      "needs_background": "light"
     },
     "output_type": "display_data"
    }
   ],
   "source": [
    "fig,(ax1,ax2) = plt.subplots(1,2,figsize=(12,4))\n",
    "sns.barplot(x= week_num,y=pd.Series(weekwise_confirmed).diff().fillna(0),ax=ax1)\n",
    "sns.barplot(x= week_num,y=pd.Series(weekwise_deaths).diff().fillna(0),ax=ax2)\n",
    "ax1.set_xlabel(\"Week Number\")\n",
    "ax2.set_xlabel(\"Week Number\")\n",
    "ax1.set_ylabel(\"Numberof Confirmed cases\")\n",
    "ax2.set_ylabel(\"Numberof Death cases\")\n",
    "ax1.set_title(\"Weekly increase in number of Confirmed cases\")\n",
    "ax2.set_title(\"Weekly increase in number of Death Cases\")\n",
    "plt.show()"
   ]
  },
  {
   "cell_type": "code",
   "execution_count": 13,
   "metadata": {
    "colab": {
     "base_uri": "https://localhost:8080/",
     "height": 446
    },
    "colab_type": "code",
    "id": "2xofznbZFp-X",
    "outputId": "d30c5b35-a770-4235-9e0a-202897b572c6"
   },
   "outputs": [
    {
     "name": "stdout",
     "output_type": "stream",
     "text": [
      "Average increase in number of Confirmed cases everyday: 29900.0\n",
      "Average increase in number of Recovered cases everyday: 8442.0\n",
      "Average increase in number of Death cases everyday: 2097.0\n"
     ]
    },
    {
     "data": {
      "image/png": "[encoded data removed]",
      "text/plain": [
       "<Figure size 1080x432 with 1 Axes>"
      ]
     },
     "metadata": {
      "needs_background": "light"
     },
     "output_type": "display_data"
    }
   ],
   "source": [
    "print(\"Average increase in number of Confirmed cases everyday:\",np.round(datewise[\"Confirmed\"].diff().fillna(0).mean()))\n",
    "print(\"Average increase in number of Recovered cases everyday:\",np.round(datewise[\"Recovered\"].diff().fillna(0).mean()))\n",
    "print(\"Average increase in number of Death cases everyday:\",np.round(datewise[\"Deaths\"].diff().fillna(0).mean()))\n",
    "\n",
    "plt.figure(figsize=(15,6))\n",
    "plt.plot(datewise[\"Confirmed\"].diff().fillna(0),label=\"Daily increase in confirmed cases\",linewidth=3)\n",
    "plt.plot(datewise[\"Recovered\"].diff().fillna(0),label=\"Daily increase in recovered cases\",linewidth=3)\n",
    "plt.plot(datewise[\"Deaths\"].diff().fillna(0),label=\"Daily increase in death cases\",linewidth=3)\n",
    "plt.xlabel(\"Timestamp\")\n",
    "plt.ylabel(\"Daily increase\")\n",
    "plt.title(\"Daily increase\")\n",
    "plt.legend()\n",
    "plt.xticks(rotation=90)\n",
    "plt.show()"
   ]
  },
  {
   "cell_type": "code",
   "execution_count": 14,
   "metadata": {
    "colab": {},
    "colab_type": "code",
    "id": "iZ3OXFn0HBKl"
   },
   "outputs": [],
   "source": [
    "#Country wise analysis\n",
    "#Calculating Country wise Mortality rate\n",
    "countrywise= covid[covid[\"ObservationDate\"]==covid[\"ObservationDate\"].max()].groupby([\"Country/Region\"]).agg({\"Confirmed\":\"sum\",\"Recovered\":\"sum\",\"Deaths\":\"sum\"}).sort_values([\"Confirmed\"],ascending=False)\n",
    "countrywise[\"Mortality\"]=(countrywise[\"Deaths\"]/countrywise[\"Recovered\"])*100\n",
    "countrywise[\"Recovered\"]=(countrywise[\"Recovered\"]/countrywise[\"Confirmed\"])*100"
   ]
  },
  {
   "cell_type": "code",
   "execution_count": 15,
   "metadata": {
    "colab": {
     "base_uri": "https://localhost:8080/",
     "height": 351
    },
    "colab_type": "code",
    "id": "ksTfgDoNIIFQ",
    "outputId": "bd2d4281-0c6f-4c2e-cb71-5801e50a85bc"
   },
   "outputs": [
    {
     "data": {
      "text/plain": [
       "Text(0.5, 1.0, 'Top 15 countries as per number of death cases')"
      ]
     },
     "execution_count": 15,
     "metadata": {},
     "output_type": "execute_result"
    },
    {
     "data": {
      "image/png": "[encoded data removed]",
      "text/plain": [
       "<Figure size 1800x720 with 2 Axes>"
      ]
     },
     "metadata": {
      "needs_background": "light"
     },
     "output_type": "display_data"
    }
   ],
   "source": [
    "fig,(ax1,ax2)=plt.subplots(1,2,figsize=(25,10))\n",
    "top_15confirmed = countrywise.sort_values([\"Confirmed\"],ascending=False).head(15)\n",
    "top_15deaths = countrywise.sort_values([\"Deaths\"],ascending=False).head(15)\n",
    "sns.barplot(x=top_15confirmed[\"Confirmed\"],y=top_15confirmed.index,ax=ax1)\n",
    "ax1.set_title(\"Top 15 countries as per number of confirmed cases\")\n",
    "sns.barplot(x=top_15deaths[\"Deaths\"],y=top_15deaths.index,ax=ax2)\n",
    "ax1.set_title(\"Top 15 countries as per number of death cases\")"
   ]
  },
  {
   "cell_type": "code",
   "execution_count": 16,
   "metadata": {
    "colab": {
     "base_uri": "https://localhost:8080/",
     "height": 121
    },
    "colab_type": "code",
    "id": "zrVntjFaKCN7",
    "outputId": "f1b64dd4-2893-4a70-8e0e-934aaf340d95"
   },
   "outputs": [
    {
     "name": "stdout",
     "output_type": "stream",
     "text": [
      "Confirmed    24530.0\n",
      "Recovered     5498.0\n",
      "Deaths         780.0\n",
      "Name: 2020-04-24 00:00:00, dtype: float64\n",
      "Total Active Cases 18252.0\n",
      "Total Closed Cases 6278.0\n"
     ]
    }
   ],
   "source": [
    "#Data Anlaysis for India\n",
    "india_data = covid[covid[\"Country/Region\"]==\"India\"]\n",
    "datewise_india = india_data.groupby([\"ObservationDate\"]).agg({\"Confirmed\":\"sum\",\"Recovered\":\"sum\",\"Deaths\":\"sum\"})\n",
    "print(datewise_india.iloc[-1])\n",
    "print(\"Total Active Cases\",datewise_india[\"Confirmed\"].iloc[-1]-datewise_india[\"Recovered\"].iloc[-1]-datewise_india[\"Deaths\"].iloc[-1])\n",
    "print(\"Total Closed Cases\",datewise_india[\"Recovered\"].iloc[-1]+datewise_india[\"Deaths\"].iloc[-1])"
   ]
  },
  {
   "cell_type": "code",
   "execution_count": 17,
   "metadata": {
    "colab": {
     "base_uri": "https://localhost:8080/",
     "height": 121
    },
    "colab_type": "code",
    "id": "PBvvKaqBLI3R",
    "outputId": "fd322fb4-c5c7-4dd6-9d44-37559c5f1bdd"
   },
   "outputs": [
    {
     "name": "stdout",
     "output_type": "stream",
     "text": [
      "Confirmed    905333.0\n",
      "Recovered     99079.0\n",
      "Deaths        51949.0\n",
      "Name: 2020-04-24 00:00:00, dtype: float64\n",
      "Total Active Cases 754305.0\n",
      "Total Closed Cases 151028.0\n"
     ]
    }
   ],
   "source": [
    "#Data Anlaysis for US\n",
    "us_data = covid[covid[\"Country/Region\"]==\"US\"]\n",
    "datewise_us = us_data.groupby([\"ObservationDate\"]).agg({\"Confirmed\":\"sum\",\"Recovered\":\"sum\",\"Deaths\":\"sum\"})\n",
    "print(datewise_us.iloc[-1])\n",
    "print(\"Total Active Cases\",datewise_us[\"Confirmed\"].iloc[-1]-datewise_us[\"Recovered\"].iloc[-1]-datewise_us[\"Deaths\"].iloc[-1])\n",
    "print(\"Total Closed Cases\",datewise_us[\"Recovered\"].iloc[-1]+datewise_us[\"Deaths\"].iloc[-1])"
   ]
  },
  {
   "cell_type": "code",
   "execution_count": 18,
   "metadata": {
    "colab": {
     "base_uri": "https://localhost:8080/",
     "height": 367
    },
    "colab_type": "code",
    "id": "24HqY4g_Lj7M",
    "outputId": "cffdb2be-d8e3-4f24-d0a5-8f2d4e8e2b4f"
   },
   "outputs": [
    {
     "name": "stderr",
     "output_type": "stream",
     "text": [
      "/Users/ravibabariya/opt/anaconda3/lib/python3.7/site-packages/ipykernel_launcher.py:1: FutureWarning: weekofyear and week have been deprecated, please use DatetimeIndex.isocalendar().week instead, which returns a Series.  To exactly reproduce the behavior of week and weekofyear and return an Index, you may call pd.Int64Index(idx.isocalendar().week)\n",
      "  \"\"\"Entry point for launching an IPython kernel.\n"
     ]
    },
    {
     "data": {
      "text/plain": [
       "Text(0.5, 1.0, 'Weekly Progress of different types of cases')"
      ]
     },
     "execution_count": 18,
     "metadata": {},
     "output_type": "execute_result"
    },
    {
     "data": {
      "image/png": "[encoded data removed]",
      "text/plain": [
       "<Figure size 576x360 with 1 Axes>"
      ]
     },
     "metadata": {
      "needs_background": "light"
     },
     "output_type": "display_data"
    }
   ],
   "source": [
    "datewise_india[\"WeekofYear\"] = datewise_india.index.weekofyear\n",
    "week_num_india = []\n",
    "india_weekwise_confirmed = []\n",
    "india_weekwise_recovered = []\n",
    "india_weekwise_deaths = []\n",
    "w = 1\n",
    "for i in list(datewise_india[\"WeekofYear\"].unique()):\n",
    "    india_weekwise_confirmed.append(datewise_india[datewise_india[\"WeekofYear\"]==i][\"Confirmed\"].iloc[-1])\n",
    "    india_weekwise_recovered.append(datewise_india[datewise_india[\"WeekofYear\"]==i][\"Recovered\"].iloc[-1])\n",
    "    india_weekwise_deaths.append(datewise_india[datewise_india[\"WeekofYear\"]==i][\"Deaths\"].iloc[-1])\n",
    "    week_num_india.append(w)\n",
    "    w=w+1\n",
    "plt.figure(figsize=(8,5))\n",
    "plt.plot(week_num_india,india_weekwise_confirmed,linewidth=3)\n",
    "plt.plot(week_num_india,india_weekwise_recovered,linewidth =3)\n",
    "plt.plot(week_num_india,india_weekwise_deaths,linewidth = 3)\n",
    "plt.xlabel(\"WeekNumber\")\n",
    "plt.ylabel(\"Number of cases\")\n",
    "plt.title(\"Weekly Progress of different types of cases\")"
   ]
  },
  {
   "cell_type": "code",
   "execution_count": 19,
   "metadata": {
    "colab": {
     "base_uri": "https://localhost:8080/",
     "height": 104
    },
    "colab_type": "code",
    "id": "xIQfC2KtMdz4",
    "outputId": "a2b96a80-6a58-4c37-b03d-7d0ec0bec5c7"
   },
   "outputs": [
    {
     "name": "stdout",
     "output_type": "stream",
     "text": [
      "It took 86 days in India to reach 24530.0 Confirmed Cases\n",
      "It took 44 days in Italy to reach number of Confirmed Cases\n",
      "It took 59 days in US to reach number of Confirmed Cases\n",
      "It took 49 days in Spain to reach number of Confirmed Cases\n",
      "It took 14 days in China to reach number of Confirmed Cases\n"
     ]
    }
   ],
   "source": [
    "max_ind = datewise_india[\"Confirmed\"].max()\n",
    "china_data = covid[covid[\"Country/Region\"]==\"Mainland China\"]\n",
    "Italy_data = covid[covid[\"Country/Region\"]==\"Italy\"]\n",
    "US_data = covid[covid[\"Country/Region\"]==\"US\"]\n",
    "spain_data = covid[covid[\"Country/Region\"]==\"Spain\"]\n",
    "datewise_china = china_data.groupby([\"ObservationDate\"]).agg({\"Confirmed\":\"sum\",\"Recovered\":\"sum\",\"Deaths\":\"sum\"})\n",
    "datewise_Italy = Italy_data.groupby([\"ObservationDate\"]).agg({\"Confirmed\":\"sum\",\"Recovered\":\"sum\",\"Deaths\":\"sum\"})\n",
    "datewise_US=US_data.groupby([\"ObservationDate\"]).agg({\"Confirmed\":\"sum\",\"Recovered\":\"sum\",\"Deaths\":\"sum\"})\n",
    "datewise_Spain=spain_data.groupby([\"ObservationDate\"]).agg({\"Confirmed\":\"sum\",\"Recovered\":\"sum\",\"Deaths\":\"sum\"})\n",
    "print(\"It took\",datewise_india[datewise_india[\"Confirmed\"]>0].shape[0],\"days in India to reach\",max_ind,\"Confirmed Cases\")\n",
    "print(\"It took\",datewise_Italy[(datewise_Italy[\"Confirmed\"]>0)&(datewise_Italy[\"Confirmed\"]<=max_ind)].shape[0],\"days in Italy to reach number of Confirmed Cases\")\n",
    "print(\"It took\",datewise_US[(datewise_US[\"Confirmed\"]>0)&(datewise_US[\"Confirmed\"]<=max_ind)].shape[0],\"days in US to reach number of Confirmed Cases\")\n",
    "print(\"It took\",datewise_Spain[(datewise_Spain[\"Confirmed\"]>0)&(datewise_Spain[\"Confirmed\"]<=max_ind)].shape[0],\"days in Spain to reach number of Confirmed Cases\")\n",
    "print(\"It took\",datewise_china[(datewise_china[\"Confirmed\"]>0)&(datewise_china[\"Confirmed\"]<=max_ind)].shape[0],\"days in China to reach number of Confirmed Cases\")"
   ]
  },
  {
   "cell_type": "code",
   "execution_count": 20,
   "metadata": {
    "colab": {},
    "colab_type": "code",
    "id": "YvJTmn_IQQW-"
   },
   "outputs": [],
   "source": [
    "datewise[\"Days Since\"]=datewise.index-datewise.index[0]\n",
    "datewise[\"Days Since\"] = datewise[\"Days Since\"].dt.days\n",
    "train_ml = datewise.iloc[:int(datewise.shape[0]*0.95)]\n",
    "valid_ml = datewise.iloc[:int(datewise.shape[0]*0.95):]\n",
    "model_scores=[]"
   ]
  },
  {
   "cell_type": "code",
   "execution_count": 21,
   "metadata": {
    "colab": {
     "base_uri": "https://localhost:8080/",
     "height": 107
    },
    "colab_type": "code",
    "id": "eqEkxiSTSFYM",
    "outputId": "d9735999-6df0-4848-9779-5dbc768b6bc5"
   },
   "outputs": [
    {
     "name": "stderr",
     "output_type": "stream",
     "text": [
      "/Users/ravibabariya/opt/anaconda3/lib/python3.7/site-packages/sklearn/utils/validation.py:63: DataConversionWarning: A column-vector y was passed when a 1d array was expected. Please change the shape of y to (n_samples, ), for example using ravel().\n",
      "  return f(*args, **kwargs)\n"
     ]
    },
    {
     "data": {
      "text/plain": [
       "SVR(C=1, degree=5, epsilon=0.001, kernel='poly')"
      ]
     },
     "execution_count": 21,
     "metadata": {},
     "output_type": "execute_result"
    }
   ],
   "source": [
    "lin_reg = LinearRegression(normalize=True)\n",
    "svm = SVR(C=1,degree=5,kernel='poly',epsilon=0.001)\n",
    "lin_reg.fit(np.array(train_ml[\"Days Since\"]).reshape(-1,1),np.array(train_ml[\"Confirmed\"]).reshape(-1,1))\n",
    "svm.fit(np.array(train_ml[\"Days Since\"]).reshape(-1,1),np.array(train_ml[\"Confirmed\"]).reshape(-1,1))"
   ]
  },
  {
   "cell_type": "code",
   "execution_count": 22,
   "metadata": {
    "colab": {},
    "colab_type": "code",
    "id": "-vdSWf-vSs-i"
   },
   "outputs": [],
   "source": [
    "prediction_valid_lin_reg = lin_reg.predict(np.array(valid_ml[\"Days Since\"]).reshape(-1,1))\n",
    "prediction_valid_svm = svm.predict(np.array(valid_ml[\"Days Since\"]).reshape(-1,1))"
   ]
  },
  {
   "cell_type": "code",
   "execution_count": 23,
   "metadata": {
    "colab": {
     "base_uri": "https://localhost:8080/",
     "height": 202
    },
    "colab_type": "code",
    "id": "H5Ru-3q_THpI",
    "outputId": "e1d7d9d3-4043-46c7-c752-c384f49dd415"
   },
   "outputs": [
    {
     "data": {
      "text/html": [
       "<div>\n",
       "<style scoped>\n",
       "    .dataframe tbody tr th:only-of-type {\n",
       "        vertical-align: middle;\n",
       "    }\n",
       "\n",
       "    .dataframe tbody tr th {\n",
       "        vertical-align: top;\n",
       "    }\n",
       "\n",
       "    .dataframe thead th {\n",
       "        text-align: right;\n",
       "    }\n",
       "</style>\n",
       "<table border=\"1\" class=\"dataframe\">\n",
       "  <thead>\n",
       "    <tr style=\"text-align: right;\">\n",
       "      <th></th>\n",
       "      <th>Dates</th>\n",
       "      <th>LR</th>\n",
       "      <th>SVR</th>\n",
       "    </tr>\n",
       "  </thead>\n",
       "  <tbody>\n",
       "    <tr>\n",
       "      <th>0</th>\n",
       "      <td>2020-04-25</td>\n",
       "      <td>1560529</td>\n",
       "      <td>3322586</td>\n",
       "    </tr>\n",
       "    <tr>\n",
       "      <th>1</th>\n",
       "      <td>2020-04-26</td>\n",
       "      <td>1582219</td>\n",
       "      <td>3500761</td>\n",
       "    </tr>\n",
       "    <tr>\n",
       "      <th>2</th>\n",
       "      <td>2020-04-27</td>\n",
       "      <td>1603909</td>\n",
       "      <td>3686599</td>\n",
       "    </tr>\n",
       "    <tr>\n",
       "      <th>3</th>\n",
       "      <td>2020-04-28</td>\n",
       "      <td>1625599</td>\n",
       "      <td>3880344</td>\n",
       "    </tr>\n",
       "    <tr>\n",
       "      <th>4</th>\n",
       "      <td>2020-04-29</td>\n",
       "      <td>1647289</td>\n",
       "      <td>4082245</td>\n",
       "    </tr>\n",
       "  </tbody>\n",
       "</table>\n",
       "</div>"
      ],
      "text/plain": [
       "       Dates      LR     SVR\n",
       "0 2020-04-25 1560529 3322586\n",
       "1 2020-04-26 1582219 3500761\n",
       "2 2020-04-27 1603909 3686599\n",
       "3 2020-04-28 1625599 3880344\n",
       "4 2020-04-29 1647289 4082245"
      ]
     },
     "execution_count": 23,
     "metadata": {},
     "output_type": "execute_result"
    }
   ],
   "source": [
    "new_date = []\n",
    "new_prediction_lr=[]\n",
    "new_prediction_svm=[]\n",
    "for i in range(1,18):\n",
    "  new_date.append(datewise.index[-1]+timedelta(days=i))\n",
    "  new_prediction_lr.append(lin_reg.predict(np.array(datewise[\"Days Since\"].max()+i).reshape(-1,1))[0][0])\n",
    "  new_prediction_svm.append(svm.predict(np.array(datewise[\"Days Since\"].max()+i).reshape(-1,1))[0])\n",
    "pd.set_option(\"display.float_format\",lambda x: '%.f' % x)\n",
    "model_predictions=pd.DataFrame(zip(new_date,new_prediction_lr,new_prediction_svm),columns = [\"Dates\",\"LR\",\"SVR\"])\n",
    "model_predictions.head(5)"
   ]
  },
  {
   "cell_type": "code",
   "execution_count": 24,
   "metadata": {
    "colab": {},
    "colab_type": "code",
    "id": "X6Pt_-i5UZU_"
   },
   "outputs": [],
   "source": [
    "model_train=datewise.iloc[:int(datewise.shape[0]*0.85)]\n",
    "valid=datewise.iloc[int(datewise.shape[0]*0.85):]"
   ]
  },
  {
   "cell_type": "code",
   "execution_count": 25,
   "metadata": {
    "colab": {},
    "colab_type": "code",
    "id": "qd34fQ4IVzLR"
   },
   "outputs": [
    {
     "name": "stderr",
     "output_type": "stream",
     "text": [
      "/Users/ravibabariya/opt/anaconda3/lib/python3.7/site-packages/statsmodels/tsa/holtwinters/model.py:429: FutureWarning: After 0.13 initialization must be handled at model creation\n",
      "  FutureWarning,\n",
      "/Users/ravibabariya/opt/anaconda3/lib/python3.7/site-packages/ipykernel_launcher.py:1: FutureWarning: the 'smoothing_slope'' keyword is deprecated, use 'smoothing_trend' instead\n",
      "  \"\"\"Entry point for launching an IPython kernel.\n"
     ]
    }
   ],
   "source": [
    "holt=Holt(np.asarray(model_train[\"Confirmed\"])).fit(smoothing_level=1.4,smoothing_slope=0.2)\n",
    "y_pred = valid.copy()\n",
    "y_pred[\"Holt\"]=holt.forecast(len(valid))"
   ]
  },
  {
   "cell_type": "code",
   "execution_count": 26,
   "metadata": {
    "colab": {
     "base_uri": "https://localhost:8080/",
     "height": 202
    },
    "colab_type": "code",
    "id": "ddhHqG1wWUXW",
    "outputId": "6d0440c7-33f8-4b3f-f3f5-a8e1c1dfd02a"
   },
   "outputs": [
    {
     "data": {
      "text/html": [
       "<div>\n",
       "<style scoped>\n",
       "    .dataframe tbody tr th:only-of-type {\n",
       "        vertical-align: middle;\n",
       "    }\n",
       "\n",
       "    .dataframe tbody tr th {\n",
       "        vertical-align: top;\n",
       "    }\n",
       "\n",
       "    .dataframe thead th {\n",
       "        text-align: right;\n",
       "    }\n",
       "</style>\n",
       "<table border=\"1\" class=\"dataframe\">\n",
       "  <thead>\n",
       "    <tr style=\"text-align: right;\">\n",
       "      <th></th>\n",
       "      <th>Dates</th>\n",
       "      <th>LR</th>\n",
       "      <th>SVR</th>\n",
       "      <th>Holts Linear Model Prediction</th>\n",
       "    </tr>\n",
       "  </thead>\n",
       "  <tbody>\n",
       "    <tr>\n",
       "      <th>0</th>\n",
       "      <td>2020-04-25</td>\n",
       "      <td>1560529</td>\n",
       "      <td>3322586</td>\n",
       "      <td>2855246</td>\n",
       "    </tr>\n",
       "    <tr>\n",
       "      <th>1</th>\n",
       "      <td>2020-04-26</td>\n",
       "      <td>1582219</td>\n",
       "      <td>3500761</td>\n",
       "      <td>2933902</td>\n",
       "    </tr>\n",
       "    <tr>\n",
       "      <th>2</th>\n",
       "      <td>2020-04-27</td>\n",
       "      <td>1603909</td>\n",
       "      <td>3686599</td>\n",
       "      <td>3012558</td>\n",
       "    </tr>\n",
       "    <tr>\n",
       "      <th>3</th>\n",
       "      <td>2020-04-28</td>\n",
       "      <td>1625599</td>\n",
       "      <td>3880344</td>\n",
       "      <td>3091214</td>\n",
       "    </tr>\n",
       "    <tr>\n",
       "      <th>4</th>\n",
       "      <td>2020-04-29</td>\n",
       "      <td>1647289</td>\n",
       "      <td>4082245</td>\n",
       "      <td>3169870</td>\n",
       "    </tr>\n",
       "  </tbody>\n",
       "</table>\n",
       "</div>"
      ],
      "text/plain": [
       "       Dates      LR     SVR  Holts Linear Model Prediction\n",
       "0 2020-04-25 1560529 3322586                        2855246\n",
       "1 2020-04-26 1582219 3500761                        2933902\n",
       "2 2020-04-27 1603909 3686599                        3012558\n",
       "3 2020-04-28 1625599 3880344                        3091214\n",
       "4 2020-04-29 1647289 4082245                        3169870"
      ]
     },
     "execution_count": 26,
     "metadata": {},
     "output_type": "execute_result"
    }
   ],
   "source": [
    "holt_new_date=[]\n",
    "holt_new_prediction=[]\n",
    "for i in range(1,18):\n",
    "   holt_new_date.append(datewise.index[-1]+timedelta(days=i))\n",
    "   holt_new_prediction.append(holt.forecast((len(valid)+i))[-1])\n",
    "\n",
    "model_predictions[\"Holts Linear Model Prediction\"]=holt_new_prediction\n",
    "model_predictions.head()"
   ]
  },
  {
   "cell_type": "code",
   "execution_count": null,
   "metadata": {
    "colab": {},
    "colab_type": "code",
    "id": "DqPWG2EeW2r9"
   },
   "outputs": [],
   "source": []
  },
  {
   "cell_type": "code",
   "execution_count": null,
   "metadata": {},
   "outputs": [],
   "source": []
  },
  {
   "cell_type": "code",
   "execution_count": null,
   "metadata": {},
   "outputs": [],
   "source": []
  }
 ],
 "metadata": {
  "colab": {
   "name": "covid.ipynb",
   "provenance": []
  },
  "kernelspec": {
   "display_name": "Python 3 (ipykernel)",
   "language": "python",
   "name": "python3"
  },
  "language_info": {
   "codemirror_mode": {
    "name": "ipython",
    "version": 3
   },
   "file_extension": ".py",
   "mimetype": "text/x-python",
   "name": "python",
   "nbconvert_exporter": "python",
   "pygments_lexer": "ipython3",
   "version": "3.7.10"
  }
 },
 "nbformat": 4,
 "nbformat_minor": 1
}
